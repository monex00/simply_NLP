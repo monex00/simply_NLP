{
 "cells": [
  {
   "cell_type": "markdown",
   "metadata": {},
   "source": [
    "## NLG test"
   ]
  },
  {
   "cell_type": "code",
   "execution_count": null,
   "metadata": {},
   "outputs": [],
   "source": [
    "from simplenlg.features import Tense, Feature\n",
    "from simplenlg.framework import NLGFactory\n",
    "from simplenlg.lexicon import Lexicon\n",
    "from simplenlg.realiser.english import Realiser\n",
    "from simplenlg.phrasespec import SPhraseSpec\n",
    "import sys\n",
    "import time"
   ]
  },
  {
   "cell_type": "code",
   "execution_count": null,
   "metadata": {},
   "outputs": [],
   "source": [
    "lexicon = Lexicon.getDefaultLexicon()\n",
    "realiser = Realiser(lexicon)\n",
    "nlgFactory = NLGFactory(lexicon)"
   ]
  },
  {
   "cell_type": "code",
   "execution_count": null,
   "metadata": {},
   "outputs": [],
   "source": [
    "def text_planning():\n",
    "    return {\n",
    "        \"introduction\": {\n",
    "            \"subject\": \"SimpleNLG\",\n",
    "            \"verb\": \"be\",\n",
    "            \"complement\": \"a software tool for natural language generation\"\n",
    "        },\n",
    "        \"features\": {\n",
    "            \"verbs\": [\"handle\", \"simplify\"],\n",
    "            \"objects\": [\"syntax\", \"lexicon management\"]\n",
    "        },\n",
    "        \"use_case\": {\n",
    "            \"context\": \"commonly used\",\n",
    "            \"applications\": [\"academic projects\", \"commercial software development\"]\n",
    "        }\n",
    "    }"
   ]
  },
  {
   "cell_type": "code",
   "execution_count": null,
   "metadata": {},
   "outputs": [],
   "source": [
    "def sentence_planning(content):\n",
    "    sentences = {\n",
    "        \"introduction\": content['introduction'],\n",
    "        \"features\": {\n",
    "            \"subject\": content['introduction']['subject'],\n",
    "            \"verb\": \"can\",\n",
    "            \"complement\": {\n",
    "                \"verbs\": content['features']['verbs'],\n",
    "                \"objects\": content['features']['objects']\n",
    "            }\n",
    "        },\n",
    "        \"use_case\": {\n",
    "            \"clause\": nlgFactory.createClause(),\n",
    "            \"context\": content['use_case']['context'],\n",
    "            \"applications\": content['use_case']['applications']\n",
    "        }\n",
    "    }\n",
    "    return sentences"
   ]
  },
  {
   "cell_type": "code",
   "execution_count": null,
   "metadata": {},
   "outputs": [],
   "source": [
    "def realization(plans):\n",
    "    # Introduzione\n",
    "    intro = nlgFactory.createClause(plans['introduction']['subject'], plans['introduction']['verb'], plans['introduction']['complement'])\n",
    "    intro.setFeature(Feature.TENSE, Tense.PRESENT)\n",
    "    \n",
    "    # Funzionalità\n",
    "    features = nlgFactory.createClause(plans['features']['subject'], plans['features']['verb'], None)\n",
    "    coord = nlgFactory.createCoordinatedPhrase()\n",
    "    for verb, obj in zip(plans['features']['complement']['verbs'], plans['features']['complement']['objects']):\n",
    "        phrase = nlgFactory.createVerbPhrase(verb)\n",
    "        phrase.setObject(obj)\n",
    "        coord.addCoordinate(phrase)\n",
    "    features.setObject(coord)\n",
    "    \n",
    "    # Casi d'uso\n",
    "    use_case = nlgFactory.createClause(\"it\", plans['use_case']['context'], \"in applications such as \" + \", \".join(plans['use_case']['applications']))\n",
    "    use_case.setFeature(Feature.TENSE, Tense.PRESENT)\n",
    "    \n",
    "    # Realizzazione\n",
    "    introduction_text = realiser.realiseSentence(intro)\n",
    "    features_text = realiser.realiseSentence(features)\n",
    "    use_case_text = realiser.realiseSentence(use_case)\n",
    "    \n",
    "    return ' '.join([introduction_text, features_text, use_case_text])"
   ]
  },
  {
   "cell_type": "code",
   "execution_count": null,
   "metadata": {},
   "outputs": [],
   "source": [
    "def print_slowly(text, delay=0.05):\n",
    "    for char in text:\n",
    "        sys.stdout.write(char)\n",
    "        sys.stdout.flush()\n",
    "        if char in '.!?':  \n",
    "            time.sleep(0.5)\n",
    "        elif char == ',':\n",
    "            time.sleep(0.3)\n",
    "        else:\n",
    "            time.sleep(delay)\n",
    "    print()  "
   ]
  },
  {
   "cell_type": "code",
   "execution_count": null,
   "metadata": {},
   "outputs": [],
   "source": [
    "content = text_planning()\n",
    "plan = sentence_planning(content)\n",
    "final_text = realization(plan)\n",
    "print_slowly(final_text)"
   ]
  }
 ],
 "metadata": {
  "language_info": {
   "name": "python"
  }
 },
 "nbformat": 4,
 "nbformat_minor": 2
}
