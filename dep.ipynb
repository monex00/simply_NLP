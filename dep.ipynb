{
 "cells": [
  {
   "cell_type": "markdown",
   "metadata": {},
   "source": [
    "# Spacy test"
   ]
  },
  {
   "cell_type": "code",
   "execution_count": null,
   "metadata": {},
   "outputs": [],
   "source": [
    "\"\"\" import spacy\n",
    "from spacy import displacy\n",
    "\n",
    "\n",
    "nlp = spacy.load(\"en_core_web_lg\")\n",
    "\n",
    "# Parsing dei documenti\n",
    "doc1 = nlp(\"The phases are TextPlanning , SentencePlanning and Realization\")\n",
    "doc2 = nlp(\"The phases are TextPlanning which is blue, SentencePlanning which is green, and Realization which is red.\")\n",
    "\n",
    "def simple_tree_similarity(doc1, doc2, dep_to_ignore={\"punct\", \"cc\", \"aux\", \"det\", \"prep\", \"mark\"}):\n",
    "    # Conta le corrispondenze e le discrepanze nei token e nelle dipendenze\n",
    "    matches = 0\n",
    "    total = 0\n",
    "    for token1 in doc1:\n",
    "        \n",
    "        if token1.dep_ in dep_to_ignore:\n",
    "            continue\n",
    "\n",
    "        total += 1\n",
    "        for token2 in doc2:\n",
    "           \n",
    "            if token1.dep_ == token2.dep_ and token1.head.lemma_ == token2.head.lemma_ and token1.lemma_ == token2.lemma_:\n",
    "                matches += 1\n",
    "            elif token1.lemma_ == token2.lemma_:\n",
    "                print(token1, token1.dep_, token1.head.lemma_, token1.lemma_)\n",
    "                print(token2, token2.dep_, token2.head.lemma_, token2.lemma_)\n",
    "\n",
    "    return matches / total if total > 0 else 0\n",
    "\n",
    "similarity = simple_tree_similarity(doc1, doc2)\n",
    "print(f\"Similarity score: {similarity:.2f}\")\n",
    "\n",
    "displacy.serve(doc1, style=\"dep\", auto_select_port=True)\n",
    "displacy.serve(doc2, style=\"dep\", auto_select_port=True )\n",
    " \"\"\""
   ]
  },
  {
   "cell_type": "markdown",
   "metadata": {},
   "source": [
    "# core functions"
   ]
  },
  {
   "cell_type": "code",
   "execution_count": null,
   "metadata": {},
   "outputs": [],
   "source": [
    "import pandas as pd\n",
    "import requests"
   ]
  },
  {
   "cell_type": "code",
   "execution_count": null,
   "metadata": {},
   "outputs": [],
   "source": [
    "class Token:\n",
    "    def __init__(self, id, form, lemma, pos, xpos, feats, head, dep, deps, misc):\n",
    "        self.id = id\n",
    "        self.form = form\n",
    "        self.lemma = lemma\n",
    "        self.pos = pos\n",
    "        self.xpos = xpos\n",
    "        self.feats = feats\n",
    "        self.head = head\n",
    "        self.dep = dep\n",
    "        self.deps = deps\n",
    "        self.misc = misc\n",
    "\n",
    "    def __str__(self):\n",
    "        return self.form"
   ]
  },
  {
   "cell_type": "code",
   "execution_count": null,
   "metadata": {},
   "outputs": [],
   "source": [
    "def get_dependencies(text):\n",
    "    baseUlr = \"http://lindat.mff.cuni.cz/services/udpipe/api/process?tokenizer&tagger&parser&model=italian-isdt-ud-2.12-230717&data=\"\n",
    "    response = requests.get(baseUlr + text)\n",
    "    data = response.json()\n",
    "    result = data[\"result\"]\n",
    "\n",
    "    text = result.split(\"\\n\")[7:]\n",
    "\n",
    "    # Converte il testo in un DataFrame\n",
    "    data = [line.split(\"\\t\") for line in text]\n",
    "    columns = [\"ID\", \"Form\", \"Lemma\", \"POS\", \"XPOS\", \"Feats\", \"Head\", \"DepRel\", \"Deps\", \"Misc\"]\n",
    "    df = pd.DataFrame(data, columns=columns)\n",
    "\n",
    "    tokens = []\n",
    "    for row in data:\n",
    "        if(len(row) < 10):\n",
    "            continue\n",
    "\n",
    "        head_index = int(row[6]) - 1\n",
    "        head = None\n",
    "        if head_index < 0:\n",
    "            head = Token(0, \"ROOT\", \"ROOT\", \"ROOT\", \"ROOT\", \"ROOT\", \"ROOT\", \"ROOT\", \"ROOT\", \"ROOT\")\n",
    "        else:\n",
    "            head = Token(data[head_index][0], data[head_index][1], data[head_index][2], data[head_index][3], data[head_index][4], data[head_index][5], data[head_index][6], data[head_index][7], data[head_index][8], data[head_index][9])\n",
    "\n",
    "        token = Token(row[0], row[1], row[2], row[3], row[4], row[5], head, row[7], row[8], row[9])\n",
    "        tokens.append(token)\n",
    "\n",
    "  \n",
    "    return tokens"
   ]
  },
  {
   "cell_type": "code",
   "execution_count": null,
   "metadata": {},
   "outputs": [],
   "source": [
    "def simple_tree_similarity(doc1, doc2, dep_to_ignore={\"punct\", \"cc\", \"aux\", \"det\", \"prep\", \"mark\"}):\n",
    "    # Conta le corrispondenze e le discrepanze nei token e nelle dipendenze\n",
    "    matches = 0\n",
    "    total = 0\n",
    "    dict1 = {\n",
    "        \"Textplanning\": 0,\n",
    "        \"Sentenceplanning\": 0,\n",
    "        \"Realization\": 0,\n",
    "    }\n",
    "    for token1 in doc1:\n",
    "        if token1.dep in dep_to_ignore:\n",
    "            continue\n",
    "\n",
    "        total += 1\n",
    "        for token2 in doc2:\n",
    "           \n",
    "            if token1.dep == token2.dep and token1.head.lemma == token2.head.lemma and token1.lemma == token2.lemma:\n",
    "                matches += 1\n",
    "                # fill frame con probabilità 1\n",
    "                if(token1.lemma in dict1):\n",
    "                    dict1[token1.lemma] = 1\n",
    "                # print(token1, token1.dep, token1.head.lemma, token1.lemma, token1.pos)\n",
    "                # print(token2, token2.dep, token2.head.lemma, token2.lemma, token2.pos)\n",
    "            elif token1.lemma == token2.lemma:\n",
    "                print(token1, token1.dep, token1.head.lemma, token1.lemma, token1.pos)\n",
    "                print(token2, token2.dep, token2.head.lemma, token2.lemma, token2.pos)\n",
    "                # fill frame con probabilità minore di 1\n",
    "                if(token1.lemma in dict1):\n",
    "                    dict1[token1.lemma] = 0.5\n",
    "    print(dict1)\n",
    "    return matches / total if total > 0 else 0"
   ]
  },
  {
   "cell_type": "code",
   "execution_count": null,
   "metadata": {},
   "outputs": [],
   "source": [
    "doc1 = get_dependencies(\"Le fasi sono TextPlanning , SentencePlanning e Realization.\")\n",
    "doc2 = get_dependencies(\"Le fasi sono SentencePlanning, che sono blu, TextPlanning , che sono blu, e Realization che sono blu.\")\n",
    "similarity = simple_tree_similarity(doc1, doc2)\n",
    "print(f\"Similarity score: {similarity:.2f}\")"
   ]
  }
 ],
 "metadata": {
  "language_info": {
   "name": "python"
  }
 },
 "nbformat": 4,
 "nbformat_minor": 2
}
